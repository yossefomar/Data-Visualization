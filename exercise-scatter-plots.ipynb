{
 "cells": [
  {
   "cell_type": "markdown",
   "id": "718e6c2c",
   "metadata": {
    "papermill": {
     "duration": 0.010956,
     "end_time": "2022-06-28T16:37:17.199733",
     "exception": false,
     "start_time": "2022-06-28T16:37:17.188777",
     "status": "completed"
    },
    "tags": []
   },
   "source": [
    "**This notebook is an exercise in the [Data Visualization](https://www.kaggle.com/learn/data-visualization) course.  You can reference the tutorial at [this link](https://www.kaggle.com/alexisbcook/scatter-plots).**\n",
    "\n",
    "---\n"
   ]
  },
  {
   "cell_type": "markdown",
   "id": "841b4401",
   "metadata": {
    "papermill": {
     "duration": 0.009476,
     "end_time": "2022-06-28T16:37:17.219103",
     "exception": false,
     "start_time": "2022-06-28T16:37:17.209627",
     "status": "completed"
    },
    "tags": []
   },
   "source": [
    "In this exercise, you will use your new knowledge to propose a solution to a real-world scenario.  To succeed, you will need to import data into Python, answer questions using the data, and generate **scatter plots** to understand patterns in the data.\n",
    "\n",
    "## Scenario\n",
    "\n",
    "You work for a major candy producer, and your goal is to write a report that your company can use to guide the design of its next product.  Soon after starting your research, you stumble across this [very interesting dataset](https://fivethirtyeight.com/features/the-ultimate-halloween-candy-power-ranking/) containing results from a fun survey to crowdsource favorite candies.\n",
    "\n",
    "## Setup\n",
    "\n",
    "Run the next cell to import and configure the Python libraries that you need to complete the exercise."
   ]
  },
  {
   "cell_type": "code",
   "execution_count": 1,
   "id": "d77a5935",
   "metadata": {
    "execution": {
     "iopub.execute_input": "2022-06-28T16:37:17.241037Z",
     "iopub.status.busy": "2022-06-28T16:37:17.240161Z",
     "iopub.status.idle": "2022-06-28T16:37:18.512814Z",
     "shell.execute_reply": "2022-06-28T16:37:18.511087Z"
    },
    "papermill": {
     "duration": 1.287149,
     "end_time": "2022-06-28T16:37:18.515985",
     "exception": false,
     "start_time": "2022-06-28T16:37:17.228836",
     "status": "completed"
    },
    "tags": []
   },
   "outputs": [
    {
     "name": "stdout",
     "output_type": "stream",
     "text": [
      "Setup Complete\n"
     ]
    }
   ],
   "source": [
    "import pandas as pd\n",
    "pd.plotting.register_matplotlib_converters()\n",
    "import matplotlib.pyplot as plt\n",
    "%matplotlib inline\n",
    "import seaborn as sns\n",
    "print(\"Setup Complete\")"
   ]
  },
  {
   "cell_type": "markdown",
   "id": "6124ef19",
   "metadata": {
    "papermill": {
     "duration": 0.009965,
     "end_time": "2022-06-28T16:37:18.536421",
     "exception": false,
     "start_time": "2022-06-28T16:37:18.526456",
     "status": "completed"
    },
    "tags": []
   },
   "source": [
    "The questions below will give you feedback on your work. Run the following cell to set up our feedback system."
   ]
  },
  {
   "cell_type": "code",
   "execution_count": 2,
   "id": "e918827f",
   "metadata": {
    "execution": {
     "iopub.execute_input": "2022-06-28T16:37:18.558756Z",
     "iopub.status.busy": "2022-06-28T16:37:18.558354Z",
     "iopub.status.idle": "2022-06-28T16:37:18.635187Z",
     "shell.execute_reply": "2022-06-28T16:37:18.633389Z"
    },
    "papermill": {
     "duration": 0.091472,
     "end_time": "2022-06-28T16:37:18.637939",
     "exception": false,
     "start_time": "2022-06-28T16:37:18.546467",
     "status": "completed"
    },
    "tags": []
   },
   "outputs": [
    {
     "name": "stdout",
     "output_type": "stream",
     "text": [
      "Setup Complete\n"
     ]
    }
   ],
   "source": [
    "# Set up code checking\n",
    "import os\n",
    "if not os.path.exists(\"../input/candy.csv\"):\n",
    "    os.symlink(\"../input/data-for-datavis/candy.csv\", \"../input/candy.csv\") \n",
    "from learntools.core import binder\n",
    "binder.bind(globals())\n",
    "from learntools.data_viz_to_coder.ex4 import *\n",
    "print(\"Setup Complete\")"
   ]
  },
  {
   "cell_type": "markdown",
   "id": "472eedfd",
   "metadata": {
    "papermill": {
     "duration": 0.010166,
     "end_time": "2022-06-28T16:37:18.658301",
     "exception": false,
     "start_time": "2022-06-28T16:37:18.648135",
     "status": "completed"
    },
    "tags": []
   },
   "source": [
    "## Step 1: Load the Data\n",
    "\n",
    "Read the candy data file into `candy_data`.  Use the `\"id\"` column to label the rows."
   ]
  },
  {
   "cell_type": "code",
   "execution_count": 3,
   "id": "9fd90be4",
   "metadata": {
    "execution": {
     "iopub.execute_input": "2022-06-28T16:37:18.681843Z",
     "iopub.status.busy": "2022-06-28T16:37:18.680862Z",
     "iopub.status.idle": "2022-06-28T16:37:18.699334Z",
     "shell.execute_reply": "2022-06-28T16:37:18.698185Z"
    },
    "papermill": {
     "duration": 0.032455,
     "end_time": "2022-06-28T16:37:18.701661",
     "exception": false,
     "start_time": "2022-06-28T16:37:18.669206",
     "status": "completed"
    },
    "tags": []
   },
   "outputs": [
    {
     "data": {
      "application/javascript": [
       "parent.postMessage({\"jupyterEvent\": \"custom.exercise_interaction\", \"data\": {\"outcomeType\": 1, \"valueTowardsCompletion\": 0.3333333333333333, \"interactionType\": 1, \"questionType\": 1, \"questionId\": \"1_LoadData\", \"learnToolsVersion\": \"0.3.4\", \"failureMessage\": \"\", \"exceptionClass\": \"\", \"trace\": \"\"}}, \"*\")"
      ],
      "text/plain": [
       "<IPython.core.display.Javascript object>"
      ]
     },
     "metadata": {},
     "output_type": "display_data"
    },
    {
     "data": {
      "text/markdown": [
       "<span style=\"color:#33cc33\">Correct</span>"
      ],
      "text/plain": [
       "Correct"
      ]
     },
     "metadata": {},
     "output_type": "display_data"
    }
   ],
   "source": [
    "# Path of the file to read\n",
    "candy_filepath = \"../input/candy.csv\"\n",
    "\n",
    "# Fill in the line below to read the file into a variable candy_data\n",
    "candy_data = pd.read_csv(candy_filepath,index_col='id')\n",
    "\n",
    "# Run the line below with no changes to check that you've loaded the data correctly\n",
    "step_1.check()"
   ]
  },
  {
   "cell_type": "code",
   "execution_count": 4,
   "id": "1416ea76",
   "metadata": {
    "execution": {
     "iopub.execute_input": "2022-06-28T16:37:18.725626Z",
     "iopub.status.busy": "2022-06-28T16:37:18.724956Z",
     "iopub.status.idle": "2022-06-28T16:37:18.729172Z",
     "shell.execute_reply": "2022-06-28T16:37:18.728017Z"
    },
    "papermill": {
     "duration": 0.019481,
     "end_time": "2022-06-28T16:37:18.731848",
     "exception": false,
     "start_time": "2022-06-28T16:37:18.712367",
     "status": "completed"
    },
    "tags": []
   },
   "outputs": [],
   "source": [
    "# Lines below will give you a hint or solution code\n",
    "#step_1.hint()\n",
    "#step_1.solution()"
   ]
  },
  {
   "cell_type": "markdown",
   "id": "ed601b8e",
   "metadata": {
    "papermill": {
     "duration": 0.010093,
     "end_time": "2022-06-28T16:37:18.753135",
     "exception": false,
     "start_time": "2022-06-28T16:37:18.743042",
     "status": "completed"
    },
    "tags": []
   },
   "source": [
    "## Step 2: Review the data\n",
    "\n",
    "Use a Python command to print the first five rows of the data."
   ]
  },
  {
   "cell_type": "code",
   "execution_count": 5,
   "id": "2df710d1",
   "metadata": {
    "execution": {
     "iopub.execute_input": "2022-06-28T16:37:18.776120Z",
     "iopub.status.busy": "2022-06-28T16:37:18.775761Z",
     "iopub.status.idle": "2022-06-28T16:37:18.804959Z",
     "shell.execute_reply": "2022-06-28T16:37:18.803784Z"
    },
    "papermill": {
     "duration": 0.043443,
     "end_time": "2022-06-28T16:37:18.807455",
     "exception": false,
     "start_time": "2022-06-28T16:37:18.764012",
     "status": "completed"
    },
    "tags": []
   },
   "outputs": [
    {
     "data": {
      "text/html": [
       "<div>\n",
       "<style scoped>\n",
       "    .dataframe tbody tr th:only-of-type {\n",
       "        vertical-align: middle;\n",
       "    }\n",
       "\n",
       "    .dataframe tbody tr th {\n",
       "        vertical-align: top;\n",
       "    }\n",
       "\n",
       "    .dataframe thead th {\n",
       "        text-align: right;\n",
       "    }\n",
       "</style>\n",
       "<table border=\"1\" class=\"dataframe\">\n",
       "  <thead>\n",
       "    <tr style=\"text-align: right;\">\n",
       "      <th></th>\n",
       "      <th>competitorname</th>\n",
       "      <th>chocolate</th>\n",
       "      <th>fruity</th>\n",
       "      <th>caramel</th>\n",
       "      <th>peanutyalmondy</th>\n",
       "      <th>nougat</th>\n",
       "      <th>crispedricewafer</th>\n",
       "      <th>hard</th>\n",
       "      <th>bar</th>\n",
       "      <th>pluribus</th>\n",
       "      <th>sugarpercent</th>\n",
       "      <th>pricepercent</th>\n",
       "      <th>winpercent</th>\n",
       "    </tr>\n",
       "    <tr>\n",
       "      <th>id</th>\n",
       "      <th></th>\n",
       "      <th></th>\n",
       "      <th></th>\n",
       "      <th></th>\n",
       "      <th></th>\n",
       "      <th></th>\n",
       "      <th></th>\n",
       "      <th></th>\n",
       "      <th></th>\n",
       "      <th></th>\n",
       "      <th></th>\n",
       "      <th></th>\n",
       "      <th></th>\n",
       "    </tr>\n",
       "  </thead>\n",
       "  <tbody>\n",
       "    <tr>\n",
       "      <th>0</th>\n",
       "      <td>100 Grand</td>\n",
       "      <td>Yes</td>\n",
       "      <td>No</td>\n",
       "      <td>Yes</td>\n",
       "      <td>No</td>\n",
       "      <td>No</td>\n",
       "      <td>Yes</td>\n",
       "      <td>No</td>\n",
       "      <td>Yes</td>\n",
       "      <td>No</td>\n",
       "      <td>0.732</td>\n",
       "      <td>0.860</td>\n",
       "      <td>66.971725</td>\n",
       "    </tr>\n",
       "    <tr>\n",
       "      <th>1</th>\n",
       "      <td>3 Musketeers</td>\n",
       "      <td>Yes</td>\n",
       "      <td>No</td>\n",
       "      <td>No</td>\n",
       "      <td>No</td>\n",
       "      <td>Yes</td>\n",
       "      <td>No</td>\n",
       "      <td>No</td>\n",
       "      <td>Yes</td>\n",
       "      <td>No</td>\n",
       "      <td>0.604</td>\n",
       "      <td>0.511</td>\n",
       "      <td>67.602936</td>\n",
       "    </tr>\n",
       "    <tr>\n",
       "      <th>2</th>\n",
       "      <td>Air Heads</td>\n",
       "      <td>No</td>\n",
       "      <td>Yes</td>\n",
       "      <td>No</td>\n",
       "      <td>No</td>\n",
       "      <td>No</td>\n",
       "      <td>No</td>\n",
       "      <td>No</td>\n",
       "      <td>No</td>\n",
       "      <td>No</td>\n",
       "      <td>0.906</td>\n",
       "      <td>0.511</td>\n",
       "      <td>52.341465</td>\n",
       "    </tr>\n",
       "    <tr>\n",
       "      <th>3</th>\n",
       "      <td>Almond Joy</td>\n",
       "      <td>Yes</td>\n",
       "      <td>No</td>\n",
       "      <td>No</td>\n",
       "      <td>Yes</td>\n",
       "      <td>No</td>\n",
       "      <td>No</td>\n",
       "      <td>No</td>\n",
       "      <td>Yes</td>\n",
       "      <td>No</td>\n",
       "      <td>0.465</td>\n",
       "      <td>0.767</td>\n",
       "      <td>50.347546</td>\n",
       "    </tr>\n",
       "    <tr>\n",
       "      <th>4</th>\n",
       "      <td>Baby Ruth</td>\n",
       "      <td>Yes</td>\n",
       "      <td>No</td>\n",
       "      <td>Yes</td>\n",
       "      <td>Yes</td>\n",
       "      <td>Yes</td>\n",
       "      <td>No</td>\n",
       "      <td>No</td>\n",
       "      <td>Yes</td>\n",
       "      <td>No</td>\n",
       "      <td>0.604</td>\n",
       "      <td>0.767</td>\n",
       "      <td>56.914547</td>\n",
       "    </tr>\n",
       "    <tr>\n",
       "      <th>...</th>\n",
       "      <td>...</td>\n",
       "      <td>...</td>\n",
       "      <td>...</td>\n",
       "      <td>...</td>\n",
       "      <td>...</td>\n",
       "      <td>...</td>\n",
       "      <td>...</td>\n",
       "      <td>...</td>\n",
       "      <td>...</td>\n",
       "      <td>...</td>\n",
       "      <td>...</td>\n",
       "      <td>...</td>\n",
       "      <td>...</td>\n",
       "    </tr>\n",
       "    <tr>\n",
       "      <th>78</th>\n",
       "      <td>Twizzlers</td>\n",
       "      <td>No</td>\n",
       "      <td>Yes</td>\n",
       "      <td>No</td>\n",
       "      <td>No</td>\n",
       "      <td>No</td>\n",
       "      <td>No</td>\n",
       "      <td>No</td>\n",
       "      <td>No</td>\n",
       "      <td>No</td>\n",
       "      <td>0.220</td>\n",
       "      <td>0.116</td>\n",
       "      <td>45.466282</td>\n",
       "    </tr>\n",
       "    <tr>\n",
       "      <th>79</th>\n",
       "      <td>Warheads</td>\n",
       "      <td>No</td>\n",
       "      <td>Yes</td>\n",
       "      <td>No</td>\n",
       "      <td>No</td>\n",
       "      <td>No</td>\n",
       "      <td>No</td>\n",
       "      <td>Yes</td>\n",
       "      <td>No</td>\n",
       "      <td>No</td>\n",
       "      <td>0.093</td>\n",
       "      <td>0.116</td>\n",
       "      <td>39.011898</td>\n",
       "    </tr>\n",
       "    <tr>\n",
       "      <th>80</th>\n",
       "      <td>Welch's Fruit Snacks</td>\n",
       "      <td>No</td>\n",
       "      <td>Yes</td>\n",
       "      <td>No</td>\n",
       "      <td>No</td>\n",
       "      <td>No</td>\n",
       "      <td>No</td>\n",
       "      <td>No</td>\n",
       "      <td>No</td>\n",
       "      <td>Yes</td>\n",
       "      <td>0.313</td>\n",
       "      <td>0.313</td>\n",
       "      <td>44.375519</td>\n",
       "    </tr>\n",
       "    <tr>\n",
       "      <th>81</th>\n",
       "      <td>Werther's Original Caramel</td>\n",
       "      <td>No</td>\n",
       "      <td>No</td>\n",
       "      <td>Yes</td>\n",
       "      <td>No</td>\n",
       "      <td>No</td>\n",
       "      <td>No</td>\n",
       "      <td>Yes</td>\n",
       "      <td>No</td>\n",
       "      <td>No</td>\n",
       "      <td>0.186</td>\n",
       "      <td>0.267</td>\n",
       "      <td>41.904308</td>\n",
       "    </tr>\n",
       "    <tr>\n",
       "      <th>82</th>\n",
       "      <td>Whoppers</td>\n",
       "      <td>Yes</td>\n",
       "      <td>No</td>\n",
       "      <td>No</td>\n",
       "      <td>No</td>\n",
       "      <td>No</td>\n",
       "      <td>Yes</td>\n",
       "      <td>No</td>\n",
       "      <td>No</td>\n",
       "      <td>Yes</td>\n",
       "      <td>0.872</td>\n",
       "      <td>0.848</td>\n",
       "      <td>49.524113</td>\n",
       "    </tr>\n",
       "  </tbody>\n",
       "</table>\n",
       "<p>83 rows × 13 columns</p>\n",
       "</div>"
      ],
      "text/plain": [
       "                competitorname chocolate fruity caramel peanutyalmondy nougat  \\\n",
       "id                                                                              \n",
       "0                    100 Grand       Yes     No     Yes             No     No   \n",
       "1                 3 Musketeers       Yes     No      No             No    Yes   \n",
       "2                    Air Heads        No    Yes      No             No     No   \n",
       "3                   Almond Joy       Yes     No      No            Yes     No   \n",
       "4                    Baby Ruth       Yes     No     Yes            Yes    Yes   \n",
       "..                         ...       ...    ...     ...            ...    ...   \n",
       "78                   Twizzlers        No    Yes      No             No     No   \n",
       "79                    Warheads        No    Yes      No             No     No   \n",
       "80        Welch's Fruit Snacks        No    Yes      No             No     No   \n",
       "81  Werther's Original Caramel        No     No     Yes             No     No   \n",
       "82                    Whoppers       Yes     No      No             No     No   \n",
       "\n",
       "   crispedricewafer hard  bar pluribus  sugarpercent  pricepercent  winpercent  \n",
       "id                                                                              \n",
       "0               Yes   No  Yes       No         0.732         0.860   66.971725  \n",
       "1                No   No  Yes       No         0.604         0.511   67.602936  \n",
       "2                No   No   No       No         0.906         0.511   52.341465  \n",
       "3                No   No  Yes       No         0.465         0.767   50.347546  \n",
       "4                No   No  Yes       No         0.604         0.767   56.914547  \n",
       "..              ...  ...  ...      ...           ...           ...         ...  \n",
       "78               No   No   No       No         0.220         0.116   45.466282  \n",
       "79               No  Yes   No       No         0.093         0.116   39.011898  \n",
       "80               No   No   No      Yes         0.313         0.313   44.375519  \n",
       "81               No  Yes   No       No         0.186         0.267   41.904308  \n",
       "82              Yes   No   No      Yes         0.872         0.848   49.524113  \n",
       "\n",
       "[83 rows x 13 columns]"
      ]
     },
     "execution_count": 5,
     "metadata": {},
     "output_type": "execute_result"
    }
   ],
   "source": [
    "# Print the first five rows of the data\n",
    "candy_data # Your code here\n"
   ]
  },
  {
   "cell_type": "markdown",
   "id": "36cd90fd",
   "metadata": {
    "papermill": {
     "duration": 0.010342,
     "end_time": "2022-06-28T16:37:18.828628",
     "exception": false,
     "start_time": "2022-06-28T16:37:18.818286",
     "status": "completed"
    },
    "tags": []
   },
   "source": [
    "The dataset contains 83 rows, where each corresponds to a different candy bar.  There are 13 columns:\n",
    "- `'competitorname'` contains the name of the candy bar. \n",
    "- the next **9** columns (from `'chocolate'` to `'pluribus'`) describe the candy.  For instance, rows with chocolate candies have `\"Yes\"` in the `'chocolate'` column (and candies without chocolate have `\"No\"` in the same column).\n",
    "- `'sugarpercent'` provides some indication of the amount of sugar, where higher values signify higher sugar content.\n",
    "- `'pricepercent'` shows the price per unit, relative to the other candies in the dataset.\n",
    "- `'winpercent'` is calculated from the survey results; higher values indicate that the candy was more popular with survey respondents.\n",
    "\n",
    "Use the first five rows of the data to answer the questions below."
   ]
  },
  {
   "cell_type": "code",
   "execution_count": 6,
   "id": "8f41cd9a",
   "metadata": {
    "execution": {
     "iopub.execute_input": "2022-06-28T16:37:18.852305Z",
     "iopub.status.busy": "2022-06-28T16:37:18.851658Z",
     "iopub.status.idle": "2022-06-28T16:37:18.861154Z",
     "shell.execute_reply": "2022-06-28T16:37:18.860037Z"
    },
    "papermill": {
     "duration": 0.023976,
     "end_time": "2022-06-28T16:37:18.863320",
     "exception": false,
     "start_time": "2022-06-28T16:37:18.839344",
     "status": "completed"
    },
    "tags": []
   },
   "outputs": [
    {
     "data": {
      "application/javascript": [
       "parent.postMessage({\"jupyterEvent\": \"custom.exercise_interaction\", \"data\": {\"outcomeType\": 1, \"valueTowardsCompletion\": 0.3333333333333333, \"interactionType\": 1, \"questionType\": 1, \"questionId\": \"2_ReviewData\", \"learnToolsVersion\": \"0.3.4\", \"failureMessage\": \"\", \"exceptionClass\": \"\", \"trace\": \"\"}}, \"*\")"
      ],
      "text/plain": [
       "<IPython.core.display.Javascript object>"
      ]
     },
     "metadata": {},
     "output_type": "display_data"
    },
    {
     "data": {
      "text/markdown": [
       "<span style=\"color:#33cc33\">Correct</span>"
      ],
      "text/plain": [
       "Correct"
      ]
     },
     "metadata": {},
     "output_type": "display_data"
    }
   ],
   "source": [
    "# Fill in the line below: Which candy was more popular with survey respondents:\n",
    "# '3 Musketeers' or 'Almond Joy'?  (Please enclose your answer in single quotes.)\n",
    "more_popular = '3 Musketeers'\n",
    "\n",
    "# Fill in the line below: Which candy has higher sugar content: 'Air Heads'\n",
    "# or 'Baby Ruth'? (Please enclose your answer in single quotes.)\n",
    "more_sugar = 'Air Heads'\n",
    "\n",
    "# Check your answers\n",
    "step_2.check()"
   ]
  },
  {
   "cell_type": "code",
   "execution_count": 7,
   "id": "df1c561b",
   "metadata": {
    "execution": {
     "iopub.execute_input": "2022-06-28T16:37:18.887810Z",
     "iopub.status.busy": "2022-06-28T16:37:18.887192Z",
     "iopub.status.idle": "2022-06-28T16:37:18.891828Z",
     "shell.execute_reply": "2022-06-28T16:37:18.890839Z"
    },
    "papermill": {
     "duration": 0.01928,
     "end_time": "2022-06-28T16:37:18.893993",
     "exception": false,
     "start_time": "2022-06-28T16:37:18.874713",
     "status": "completed"
    },
    "tags": []
   },
   "outputs": [],
   "source": [
    "# Lines below will give you a hint or solution code\n",
    "#step_2.hint()\n",
    "#step_2.solution()"
   ]
  },
  {
   "cell_type": "markdown",
   "id": "ed9930b3",
   "metadata": {
    "papermill": {
     "duration": 0.010571,
     "end_time": "2022-06-28T16:37:18.915536",
     "exception": false,
     "start_time": "2022-06-28T16:37:18.904965",
     "status": "completed"
    },
    "tags": []
   },
   "source": [
    "'sugarpercent'## Step 3: The role of sugar\n",
    "\n",
    "Do people tend to prefer candies with higher sugar content?  \n",
    "\n",
    "#### Part A\n",
    "\n",
    "Create a scatter plot that shows the relationship between `'sugarpercent'` (on the horizontal x-axis) and `'winpercent'` (on the vertical y-axis).  _Don't add a regression line just yet -- you'll do that in the next step!_"
   ]
  },
  {
   "cell_type": "code",
   "execution_count": 8,
   "id": "b824b906",
   "metadata": {
    "execution": {
     "iopub.execute_input": "2022-06-28T16:37:18.939475Z",
     "iopub.status.busy": "2022-06-28T16:37:18.939078Z",
     "iopub.status.idle": "2022-06-28T16:37:19.187099Z",
     "shell.execute_reply": "2022-06-28T16:37:19.185932Z"
    },
    "papermill": {
     "duration": 0.262958,
     "end_time": "2022-06-28T16:37:19.189531",
     "exception": false,
     "start_time": "2022-06-28T16:37:18.926573",
     "status": "completed"
    },
    "tags": []
   },
   "outputs": [
    {
     "data": {
      "application/javascript": [
       "parent.postMessage({\"jupyterEvent\": \"custom.exercise_interaction\", \"data\": {\"outcomeType\": 1, \"valueTowardsCompletion\": 0.3333333333333333, \"interactionType\": 1, \"questionType\": 2, \"questionId\": \"3.1_PlotBlueScatter\", \"learnToolsVersion\": \"0.3.4\", \"failureMessage\": \"\", \"exceptionClass\": \"\", \"trace\": \"\"}}, \"*\")"
      ],
      "text/plain": [
       "<IPython.core.display.Javascript object>"
      ]
     },
     "metadata": {},
     "output_type": "display_data"
    },
    {
     "data": {
      "text/markdown": [
       "<span style=\"color:#33cc33\">Correct</span>"
      ],
      "text/plain": [
       "Correct"
      ]
     },
     "metadata": {},
     "output_type": "display_data"
    },
    {
     "data": {
      "image/png": "[encoded data removed]",
      "text/plain": [
       "<Figure size 432x288 with 1 Axes>"
      ]
     },
     "metadata": {
      "needs_background": "light"
     },
     "output_type": "display_data"
    }
   ],
   "source": [
    "# Scatter plot showing the relationship between 'sugarpercent' and 'winpercent'\n",
    "sns.scatterplot(x=candy_data['sugarpercent'],y=candy_data['winpercent']) # Your code here\n",
    "\n",
    "# Check your answer\n",
    "step_3.a.check()"
   ]
  },
  {
   "cell_type": "code",
   "execution_count": 9,
   "id": "e151358a",
   "metadata": {
    "execution": {
     "iopub.execute_input": "2022-06-28T16:37:19.216022Z",
     "iopub.status.busy": "2022-06-28T16:37:19.214136Z",
     "iopub.status.idle": "2022-06-28T16:37:19.219698Z",
     "shell.execute_reply": "2022-06-28T16:37:19.218758Z"
    },
    "papermill": {
     "duration": 0.020633,
     "end_time": "2022-06-28T16:37:19.222008",
     "exception": false,
     "start_time": "2022-06-28T16:37:19.201375",
     "status": "completed"
    },
    "tags": []
   },
   "outputs": [],
   "source": [
    "# Lines below will give you a hint or solution code\n",
    "#step_3.a.hint()\n",
    "#step_3.a.solution_plot()"
   ]
  },
  {
   "cell_type": "markdown",
   "id": "5ff3da25",
   "metadata": {
    "papermill": {
     "duration": 0.011199,
     "end_time": "2022-06-28T16:37:19.244530",
     "exception": false,
     "start_time": "2022-06-28T16:37:19.233331",
     "status": "completed"
    },
    "tags": []
   },
   "source": [
    "#### Part B\n",
    "\n",
    "Does the scatter plot show a **strong** correlation between the two variables?  If so, are candies with more sugar relatively more or less popular with the survey respondents?"
   ]
  },
  {
   "cell_type": "code",
   "execution_count": 10,
   "id": "9b4bf6c1",
   "metadata": {
    "execution": {
     "iopub.execute_input": "2022-06-28T16:37:19.269807Z",
     "iopub.status.busy": "2022-06-28T16:37:19.269021Z",
     "iopub.status.idle": "2022-06-28T16:37:19.274063Z",
     "shell.execute_reply": "2022-06-28T16:37:19.273173Z"
    },
    "papermill": {
     "duration": 0.020324,
     "end_time": "2022-06-28T16:37:19.276383",
     "exception": false,
     "start_time": "2022-06-28T16:37:19.256059",
     "status": "completed"
    },
    "tags": []
   },
   "outputs": [],
   "source": [
    "#step_3.b.hint()"
   ]
  },
  {
   "cell_type": "code",
   "execution_count": 11,
   "id": "5c987325",
   "metadata": {
    "execution": {
     "iopub.execute_input": "2022-06-28T16:37:19.301667Z",
     "iopub.status.busy": "2022-06-28T16:37:19.300921Z",
     "iopub.status.idle": "2022-06-28T16:37:19.309991Z",
     "shell.execute_reply": "2022-06-28T16:37:19.309081Z"
    },
    "papermill": {
     "duration": 0.024375,
     "end_time": "2022-06-28T16:37:19.312229",
     "exception": false,
     "start_time": "2022-06-28T16:37:19.287854",
     "status": "completed"
    },
    "tags": []
   },
   "outputs": [
    {
     "data": {
      "application/javascript": [
       "parent.postMessage({\"jupyterEvent\": \"custom.exercise_interaction\", \"data\": {\"interactionType\": 3, \"questionType\": 4, \"questionId\": \"3.2_ThinkBlueScatter\", \"learnToolsVersion\": \"0.3.4\", \"valueTowardsCompletion\": 0.0, \"failureMessage\": \"\", \"exceptionClass\": \"\", \"trace\": \"\", \"outcomeType\": 4}}, \"*\")"
      ],
      "text/plain": [
       "<IPython.core.display.Javascript object>"
      ]
     },
     "metadata": {},
     "output_type": "display_data"
    },
    {
     "data": {
      "text/markdown": [
       "<span style=\"color:#33cc99\">Solution:</span> The scatter plot does not show a strong correlation between the two variables. Since there is no clear relationship between the two variables, this tells us that sugar content does not play a strong role in candy popularity."
      ],
      "text/plain": [
       "Solution: The scatter plot does not show a strong correlation between the two variables. Since there is no clear relationship between the two variables, this tells us that sugar content does not play a strong role in candy popularity."
      ]
     },
     "metadata": {},
     "output_type": "display_data"
    }
   ],
   "source": [
    "# Check your answer (Run this code cell to receive credit!)\n",
    "step_3.b.solution()"
   ]
  },
  {
   "cell_type": "markdown",
   "id": "3e103f5c",
   "metadata": {
    "papermill": {
     "duration": 0.011748,
     "end_time": "2022-06-28T16:37:19.335881",
     "exception": false,
     "start_time": "2022-06-28T16:37:19.324133",
     "status": "completed"
    },
    "tags": []
   },
   "source": [
    "## Step 4: Take a closer look\n",
    "\n",
    "#### Part A\n",
    "\n",
    "Create the same scatter plot you created in **Step 3**, but now with a regression line!"
   ]
  },
  {
   "cell_type": "code",
   "execution_count": 12,
   "id": "98ec568d",
   "metadata": {
    "execution": {
     "iopub.execute_input": "2022-06-28T16:37:19.361731Z",
     "iopub.status.busy": "2022-06-28T16:37:19.361324Z",
     "iopub.status.idle": "2022-06-28T16:37:19.668716Z",
     "shell.execute_reply": "2022-06-28T16:37:19.667786Z"
    },
    "papermill": {
     "duration": 0.323306,
     "end_time": "2022-06-28T16:37:19.671103",
     "exception": false,
     "start_time": "2022-06-28T16:37:19.347797",
     "status": "completed"
    },
    "tags": []
   },
   "outputs": [
    {
     "data": {
      "application/javascript": [
       "parent.postMessage({\"jupyterEvent\": \"custom.exercise_interaction\", \"data\": {\"outcomeType\": 1, \"valueTowardsCompletion\": 0.3333333333333333, \"interactionType\": 1, \"questionType\": 2, \"questionId\": \"4.1_PlotBlueReg\", \"learnToolsVersion\": \"0.3.4\", \"failureMessage\": \"\", \"exceptionClass\": \"\", \"trace\": \"\"}}, \"*\")"
      ],
      "text/plain": [
       "<IPython.core.display.Javascript object>"
      ]
     },
     "metadata": {},
     "output_type": "display_data"
    },
    {
     "data": {
      "text/markdown": [
       "<span style=\"color:#33cc33\">Correct</span>"
      ],
      "text/plain": [
       "Correct"
      ]
     },
     "metadata": {},
     "output_type": "display_data"
    },
    {
     "data": {
      "image/png": "[encoded data removed]",
      "text/plain": [
       "<Figure size 432x288 with 1 Axes>"
      ]
     },
     "metadata": {
      "needs_background": "light"
     },
     "output_type": "display_data"
    }
   ],
   "source": [
    "# Scatter plot w/ regression line showing the relationship between 'sugarpercent' and 'winpercent'\n",
    "sns.regplot(x=candy_data['sugarpercent'],y=candy_data['winpercent']) # Your code here\n",
    "\n",
    "# Check your answer\n",
    "step_4.a.check()"
   ]
  },
  {
   "cell_type": "code",
   "execution_count": 13,
   "id": "4d65536b",
   "metadata": {
    "execution": {
     "iopub.execute_input": "2022-06-28T16:37:19.698251Z",
     "iopub.status.busy": "2022-06-28T16:37:19.697872Z",
     "iopub.status.idle": "2022-06-28T16:37:19.702727Z",
     "shell.execute_reply": "2022-06-28T16:37:19.701280Z"
    },
    "papermill": {
     "duration": 0.021557,
     "end_time": "2022-06-28T16:37:19.705232",
     "exception": false,
     "start_time": "2022-06-28T16:37:19.683675",
     "status": "completed"
    },
    "tags": []
   },
   "outputs": [],
   "source": [
    "# Lines below will give you a hint or solution code\n",
    "#step_4.a.hint()\n",
    "#step_4.a.solution_plot()"
   ]
  },
  {
   "cell_type": "markdown",
   "id": "ee214fd8",
   "metadata": {
    "papermill": {
     "duration": 0.012144,
     "end_time": "2022-06-28T16:37:19.730113",
     "exception": false,
     "start_time": "2022-06-28T16:37:19.717969",
     "status": "completed"
    },
    "tags": []
   },
   "source": [
    "#### Part B\n",
    "\n",
    "According to the plot above, is there a **slight** correlation between `'winpercent'` and `'sugarpercent'`?  What does this tell you about the candy that people tend to prefer?"
   ]
  },
  {
   "cell_type": "code",
   "execution_count": 14,
   "id": "4ef614d3",
   "metadata": {
    "execution": {
     "iopub.execute_input": "2022-06-28T16:37:19.758475Z",
     "iopub.status.busy": "2022-06-28T16:37:19.757656Z",
     "iopub.status.idle": "2022-06-28T16:37:19.762577Z",
     "shell.execute_reply": "2022-06-28T16:37:19.761778Z"
    },
    "papermill": {
     "duration": 0.022083,
     "end_time": "2022-06-28T16:37:19.764884",
     "exception": false,
     "start_time": "2022-06-28T16:37:19.742801",
     "status": "completed"
    },
    "tags": []
   },
   "outputs": [],
   "source": [
    "#step_4.b.hint()"
   ]
  },
  {
   "cell_type": "code",
   "execution_count": 15,
   "id": "2be9adb3",
   "metadata": {
    "execution": {
     "iopub.execute_input": "2022-06-28T16:37:19.792496Z",
     "iopub.status.busy": "2022-06-28T16:37:19.791716Z",
     "iopub.status.idle": "2022-06-28T16:37:19.800985Z",
     "shell.execute_reply": "2022-06-28T16:37:19.800080Z"
    },
    "papermill": {
     "duration": 0.025988,
     "end_time": "2022-06-28T16:37:19.803372",
     "exception": false,
     "start_time": "2022-06-28T16:37:19.777384",
     "status": "completed"
    },
    "tags": []
   },
   "outputs": [
    {
     "data": {
      "application/javascript": [
       "parent.postMessage({\"jupyterEvent\": \"custom.exercise_interaction\", \"data\": {\"interactionType\": 3, \"questionType\": 4, \"questionId\": \"4.2_ThinkBlueReg\", \"learnToolsVersion\": \"0.3.4\", \"valueTowardsCompletion\": 0.0, \"failureMessage\": \"\", \"exceptionClass\": \"\", \"trace\": \"\", \"outcomeType\": 4}}, \"*\")"
      ],
      "text/plain": [
       "<IPython.core.display.Javascript object>"
      ]
     },
     "metadata": {},
     "output_type": "display_data"
    },
    {
     "data": {
      "text/markdown": [
       "<span style=\"color:#33cc99\">Solution:</span> Since the regression line has a slightly positive slope, this tells us that there is a slightly positive correlation between `'winpercent'` and `'sugarpercent'`. Thus, people have a slight preference for candies containing relatively more sugar."
      ],
      "text/plain": [
       "Solution: Since the regression line has a slightly positive slope, this tells us that there is a slightly positive correlation between `'winpercent'` and `'sugarpercent'`. Thus, people have a slight preference for candies containing relatively more sugar."
      ]
     },
     "metadata": {},
     "output_type": "display_data"
    }
   ],
   "source": [
    "# Check your answer (Run this code cell to receive credit!)\n",
    "step_4.b.solution()"
   ]
  },
  {
   "cell_type": "markdown",
   "id": "94180b39",
   "metadata": {
    "papermill": {
     "duration": 0.012782,
     "end_time": "2022-06-28T16:37:19.828851",
     "exception": false,
     "start_time": "2022-06-28T16:37:19.816069",
     "status": "completed"
    },
    "tags": []
   },
   "source": [
    "## Step 5: Chocolate!\n",
    "\n",
    "In the code cell below, create a scatter plot to show the relationship between `'pricepercent'` (on the horizontal x-axis) and `'winpercent'` (on the vertical y-axis). Use the `'chocolate'` column to color-code the points.  _Don't add any regression lines just yet -- you'll do that in the next step!_"
   ]
  },
  {
   "cell_type": "code",
   "execution_count": 16,
   "id": "324c4aba",
   "metadata": {
    "execution": {
     "iopub.execute_input": "2022-06-28T16:37:19.856996Z",
     "iopub.status.busy": "2022-06-28T16:37:19.856250Z",
     "iopub.status.idle": "2022-06-28T16:37:20.079728Z",
     "shell.execute_reply": "2022-06-28T16:37:20.078600Z"
    },
    "papermill": {
     "duration": 0.24014,
     "end_time": "2022-06-28T16:37:20.082037",
     "exception": false,
     "start_time": "2022-06-28T16:37:19.841897",
     "status": "completed"
    },
    "tags": []
   },
   "outputs": [
    {
     "data": {
      "application/javascript": [
       "parent.postMessage({\"jupyterEvent\": \"custom.exercise_interaction\", \"data\": {\"outcomeType\": 1, \"valueTowardsCompletion\": 0.3333333333333333, \"interactionType\": 1, \"questionType\": 2, \"questionId\": \"5_ColorScatter\", \"learnToolsVersion\": \"0.3.4\", \"failureMessage\": \"\", \"exceptionClass\": \"\", \"trace\": \"\"}}, \"*\")"
      ],
      "text/plain": [
       "<IPython.core.display.Javascript object>"
      ]
     },
     "metadata": {},
     "output_type": "display_data"
    },
    {
     "data": {
      "text/markdown": [
       "<span style=\"color:#33cc33\">Correct</span>"
      ],
      "text/plain": [
       "Correct"
      ]
     },
     "metadata": {},
     "output_type": "display_data"
    },
    {
     "data": {
      "image/png": "[encoded data removed]",
      "text/plain": [
       "<Figure size 432x288 with 1 Axes>"
      ]
     },
     "metadata": {
      "needs_background": "light"
     },
     "output_type": "display_data"
    }
   ],
   "source": [
    "# Scatter plot showing the relationship between 'pricepercent', 'winpercent', and 'chocolate'\n",
    "sns.scatterplot(x=candy_data['pricepercent'],y=candy_data['winpercent'],hue=candy_data['chocolate']) # Your code here\n",
    "\n",
    "# Check your answer\n",
    "step_5.check()"
   ]
  },
  {
   "cell_type": "code",
   "execution_count": 17,
   "id": "409403bb",
   "metadata": {
    "execution": {
     "iopub.execute_input": "2022-06-28T16:37:20.110750Z",
     "iopub.status.busy": "2022-06-28T16:37:20.110348Z",
     "iopub.status.idle": "2022-06-28T16:37:20.114615Z",
     "shell.execute_reply": "2022-06-28T16:37:20.113534Z"
    },
    "papermill": {
     "duration": 0.021289,
     "end_time": "2022-06-28T16:37:20.116759",
     "exception": false,
     "start_time": "2022-06-28T16:37:20.095470",
     "status": "completed"
    },
    "tags": []
   },
   "outputs": [],
   "source": [
    "# Lines below will give you a hint or solution code\n",
    "#step_5.hint()\n",
    "#step_5.solution_plot()"
   ]
  },
  {
   "cell_type": "markdown",
   "id": "80ec9252",
   "metadata": {
    "papermill": {
     "duration": 0.013085,
     "end_time": "2022-06-28T16:37:20.143105",
     "exception": false,
     "start_time": "2022-06-28T16:37:20.130020",
     "status": "completed"
    },
    "tags": []
   },
   "source": [
    "Can you see any interesting patterns in the scatter plot?  We'll investigate this plot further  by adding regression lines in the next step!\n",
    "\n",
    "## Step 6: Investigate chocolate\n",
    "\n",
    "#### Part A\n",
    "\n",
    "Create the same scatter plot you created in **Step 5**, but now with two regression lines, corresponding to (1) chocolate candies and (2) candies without chocolate."
   ]
  },
  {
   "cell_type": "code",
   "execution_count": 18,
   "id": "59f59a92",
   "metadata": {
    "execution": {
     "iopub.execute_input": "2022-06-28T16:37:20.172479Z",
     "iopub.status.busy": "2022-06-28T16:37:20.171706Z",
     "iopub.status.idle": "2022-06-28T16:37:20.778113Z",
     "shell.execute_reply": "2022-06-28T16:37:20.776927Z"
    },
    "papermill": {
     "duration": 0.623954,
     "end_time": "2022-06-28T16:37:20.780595",
     "exception": false,
     "start_time": "2022-06-28T16:37:20.156641",
     "status": "completed"
    },
    "tags": []
   },
   "outputs": [
    {
     "data": {
      "application/javascript": [
       "parent.postMessage({\"jupyterEvent\": \"custom.exercise_interaction\", \"data\": {\"outcomeType\": 1, \"valueTowardsCompletion\": 0.3333333333333333, \"interactionType\": 1, \"questionType\": 2, \"questionId\": \"6.1_PlotColorReg\", \"learnToolsVersion\": \"0.3.4\", \"failureMessage\": \"\", \"exceptionClass\": \"\", \"trace\": \"\"}}, \"*\")"
      ],
      "text/plain": [
       "<IPython.core.display.Javascript object>"
      ]
     },
     "metadata": {},
     "output_type": "display_data"
    },
    {
     "data": {
      "text/markdown": [
       "<span style=\"color:#33cc33\">Correct</span>"
      ],
      "text/plain": [
       "Correct"
      ]
     },
     "metadata": {},
     "output_type": "display_data"
    },
    {
     "data": {
      "image/png": "[encoded data removed]",
      "text/plain": [
       "<Figure size 416.375x360 with 1 Axes>"
      ]
     },
     "metadata": {
      "needs_background": "light"
     },
     "output_type": "display_data"
    }
   ],
   "source": [
    "# Color-coded scatter plot w/ regression lines\n",
    "sns.lmplot(x='pricepercent',y='winpercent',hue='chocolate',data=candy_data) # Your code here\n",
    "\n",
    "# Check your answer\n",
    "step_6.a.check()"
   ]
  },
  {
   "cell_type": "code",
   "execution_count": 19,
   "id": "0847c0fd",
   "metadata": {
    "execution": {
     "iopub.execute_input": "2022-06-28T16:37:20.811039Z",
     "iopub.status.busy": "2022-06-28T16:37:20.810311Z",
     "iopub.status.idle": "2022-06-28T16:37:20.816412Z",
     "shell.execute_reply": "2022-06-28T16:37:20.815371Z"
    },
    "papermill": {
     "duration": 0.024114,
     "end_time": "2022-06-28T16:37:20.818790",
     "exception": false,
     "start_time": "2022-06-28T16:37:20.794676",
     "status": "completed"
    },
    "tags": []
   },
   "outputs": [],
   "source": [
    "# Lines below will give you a hint or solution code\n",
    "#step_6.a.hint()\n",
    "#step_6.a.solution_plot()"
   ]
  },
  {
   "cell_type": "markdown",
   "id": "5552f3f7",
   "metadata": {
    "papermill": {
     "duration": 0.013667,
     "end_time": "2022-06-28T16:37:20.846319",
     "exception": false,
     "start_time": "2022-06-28T16:37:20.832652",
     "status": "completed"
    },
    "tags": []
   },
   "source": [
    "#### Part B\n",
    "\n",
    "Using the regression lines, what conclusions can you draw about the effects of chocolate and price on candy popularity?"
   ]
  },
  {
   "cell_type": "code",
   "execution_count": 20,
   "id": "289691a4",
   "metadata": {
    "execution": {
     "iopub.execute_input": "2022-06-28T16:37:20.877072Z",
     "iopub.status.busy": "2022-06-28T16:37:20.876163Z",
     "iopub.status.idle": "2022-06-28T16:37:20.882464Z",
     "shell.execute_reply": "2022-06-28T16:37:20.881602Z"
    },
    "papermill": {
     "duration": 0.024081,
     "end_time": "2022-06-28T16:37:20.884667",
     "exception": false,
     "start_time": "2022-06-28T16:37:20.860586",
     "status": "completed"
    },
    "tags": []
   },
   "outputs": [],
   "source": [
    "#step_6.b.hint()"
   ]
  },
  {
   "cell_type": "code",
   "execution_count": 21,
   "id": "a4924dcb",
   "metadata": {
    "execution": {
     "iopub.execute_input": "2022-06-28T16:37:20.915888Z",
     "iopub.status.busy": "2022-06-28T16:37:20.914831Z",
     "iopub.status.idle": "2022-06-28T16:37:20.922146Z",
     "shell.execute_reply": "2022-06-28T16:37:20.921375Z"
    },
    "papermill": {
     "duration": 0.025005,
     "end_time": "2022-06-28T16:37:20.924058",
     "exception": false,
     "start_time": "2022-06-28T16:37:20.899053",
     "status": "completed"
    },
    "tags": []
   },
   "outputs": [
    {
     "data": {
      "application/javascript": [
       "parent.postMessage({\"jupyterEvent\": \"custom.exercise_interaction\", \"data\": {\"interactionType\": 3, \"questionType\": 4, \"questionId\": \"6.2_ThinkColorReg\", \"learnToolsVersion\": \"0.3.4\", \"valueTowardsCompletion\": 0.0, \"failureMessage\": \"\", \"exceptionClass\": \"\", \"trace\": \"\", \"outcomeType\": 4}}, \"*\")"
      ],
      "text/plain": [
       "<IPython.core.display.Javascript object>"
      ]
     },
     "metadata": {},
     "output_type": "display_data"
    },
    {
     "data": {
      "text/markdown": [
       "<span style=\"color:#33cc99\">Solution:</span> We'll begin with the regression line for chocolate candies. Since this line has a slightly positive slope, we can say that more expensive chocolate candies tend to be more popular (than relatively cheaper chocolate candies).  Likewise, since the regression line for candies without chocolate has a negative slope, we can say that if candies don't contain chocolate, they tend to be more popular when they are cheaper.  One important note, however, is that the dataset is quite small -- so we shouldn't invest too much trust in these patterns!  To inspire more confidence in the results, we should add more candies to the dataset."
      ],
      "text/plain": [
       "Solution: We'll begin with the regression line for chocolate candies. Since this line has a slightly positive slope, we can say that more expensive chocolate candies tend to be more popular (than relatively cheaper chocolate candies).  Likewise, since the regression line for candies without chocolate has a negative slope, we can say that if candies don't contain chocolate, they tend to be more popular when they are cheaper.  One important note, however, is that the dataset is quite small -- so we shouldn't invest too much trust in these patterns!  To inspire more confidence in the results, we should add more candies to the dataset."
      ]
     },
     "metadata": {},
     "output_type": "display_data"
    }
   ],
   "source": [
    "# Check your answer (Run this code cell to receive credit!)\n",
    "step_6.b.solution()"
   ]
  },
  {
   "cell_type": "markdown",
   "id": "b8ec2bde",
   "metadata": {
    "papermill": {
     "duration": 0.014162,
     "end_time": "2022-06-28T16:37:20.952588",
     "exception": false,
     "start_time": "2022-06-28T16:37:20.938426",
     "status": "completed"
    },
    "tags": []
   },
   "source": [
    "## Step 7: Everybody loves chocolate.\n",
    "\n",
    "#### Part A\n",
    "\n",
    "Create a categorical scatter plot to highlight the relationship between `'chocolate'` and `'winpercent'`.  Put `'chocolate'` on the (horizontal) x-axis, and `'winpercent'` on the (vertical) y-axis."
   ]
  },
  {
   "cell_type": "code",
   "execution_count": 22,
   "id": "6595844e",
   "metadata": {
    "execution": {
     "iopub.execute_input": "2022-06-28T16:37:20.984092Z",
     "iopub.status.busy": "2022-06-28T16:37:20.982975Z",
     "iopub.status.idle": "2022-06-28T16:37:21.173262Z",
     "shell.execute_reply": "2022-06-28T16:37:21.172354Z"
    },
    "papermill": {
     "duration": 0.208432,
     "end_time": "2022-06-28T16:37:21.175400",
     "exception": false,
     "start_time": "2022-06-28T16:37:20.966968",
     "status": "completed"
    },
    "tags": []
   },
   "outputs": [
    {
     "data": {
      "application/javascript": [
       "parent.postMessage({\"jupyterEvent\": \"custom.exercise_interaction\", \"data\": {\"outcomeType\": 1, \"valueTowardsCompletion\": 0.3333333333333333, \"interactionType\": 1, \"questionType\": 2, \"questionId\": \"7.1_PlotSwarm\", \"learnToolsVersion\": \"0.3.4\", \"failureMessage\": \"\", \"exceptionClass\": \"\", \"trace\": \"\"}}, \"*\")"
      ],
      "text/plain": [
       "<IPython.core.display.Javascript object>"
      ]
     },
     "metadata": {},
     "output_type": "display_data"
    },
    {
     "data": {
      "text/markdown": [
       "<span style=\"color:#33cc33\">Correct</span>"
      ],
      "text/plain": [
       "Correct"
      ]
     },
     "metadata": {},
     "output_type": "display_data"
    },
    {
     "data": {
      "image/png": "[encoded data removed]",
      "text/plain": [
       "<Figure size 432x288 with 1 Axes>"
      ]
     },
     "metadata": {
      "needs_background": "light"
     },
     "output_type": "display_data"
    }
   ],
   "source": [
    "# Scatter plot showing the relationship between 'chocolate' and 'winpercent'\n",
    "sns.swarmplot(x=candy_data['chocolate'],y=candy_data['winpercent']) # Your code here\n",
    "\n",
    "# Check your answer\n",
    "step_7.a.check()"
   ]
  },
  {
   "cell_type": "code",
   "execution_count": 23,
   "id": "2b4c233c",
   "metadata": {
    "execution": {
     "iopub.execute_input": "2022-06-28T16:37:21.208058Z",
     "iopub.status.busy": "2022-06-28T16:37:21.206950Z",
     "iopub.status.idle": "2022-06-28T16:37:21.211461Z",
     "shell.execute_reply": "2022-06-28T16:37:21.210637Z"
    },
    "papermill": {
     "duration": 0.023277,
     "end_time": "2022-06-28T16:37:21.213675",
     "exception": false,
     "start_time": "2022-06-28T16:37:21.190398",
     "status": "completed"
    },
    "tags": []
   },
   "outputs": [],
   "source": [
    "# Lines below will give you a hint or solution code\n",
    "#step_7.a.hint()\n",
    "#step_7.a.solution_plot()"
   ]
  },
  {
   "cell_type": "markdown",
   "id": "f79f209e",
   "metadata": {
    "papermill": {
     "duration": 0.014598,
     "end_time": "2022-06-28T16:37:21.243247",
     "exception": false,
     "start_time": "2022-06-28T16:37:21.228649",
     "status": "completed"
    },
    "tags": []
   },
   "source": [
    "#### Part B\n",
    "\n",
    "You decide to dedicate a section of your report to the fact that chocolate candies tend to be more popular than candies without chocolate.  Which plot is more appropriate to tell this story: the plot from **Step 6**, or the plot from **Step 7**?"
   ]
  },
  {
   "cell_type": "code",
   "execution_count": 24,
   "id": "db79b149",
   "metadata": {
    "execution": {
     "iopub.execute_input": "2022-06-28T16:37:21.275849Z",
     "iopub.status.busy": "2022-06-28T16:37:21.275262Z",
     "iopub.status.idle": "2022-06-28T16:37:21.278771Z",
     "shell.execute_reply": "2022-06-28T16:37:21.278034Z"
    },
    "papermill": {
     "duration": 0.022242,
     "end_time": "2022-06-28T16:37:21.280778",
     "exception": false,
     "start_time": "2022-06-28T16:37:21.258536",
     "status": "completed"
    },
    "tags": []
   },
   "outputs": [],
   "source": [
    "#step_7.b.hint()"
   ]
  },
  {
   "cell_type": "code",
   "execution_count": 25,
   "id": "c840a667",
   "metadata": {
    "execution": {
     "iopub.execute_input": "2022-06-28T16:37:21.313233Z",
     "iopub.status.busy": "2022-06-28T16:37:21.312575Z",
     "iopub.status.idle": "2022-06-28T16:37:21.319439Z",
     "shell.execute_reply": "2022-06-28T16:37:21.318651Z"
    },
    "papermill": {
     "duration": 0.025636,
     "end_time": "2022-06-28T16:37:21.321450",
     "exception": false,
     "start_time": "2022-06-28T16:37:21.295814",
     "status": "completed"
    },
    "tags": []
   },
   "outputs": [
    {
     "data": {
      "application/javascript": [
       "parent.postMessage({\"jupyterEvent\": \"custom.exercise_interaction\", \"data\": {\"interactionType\": 3, \"questionType\": 4, \"questionId\": \"7.2_ThinkSwarm\", \"learnToolsVersion\": \"0.3.4\", \"valueTowardsCompletion\": 0.0, \"failureMessage\": \"\", \"exceptionClass\": \"\", \"trace\": \"\", \"outcomeType\": 4}}, \"*\")"
      ],
      "text/plain": [
       "<IPython.core.display.Javascript object>"
      ]
     },
     "metadata": {},
     "output_type": "display_data"
    },
    {
     "data": {
      "text/markdown": [
       "<span style=\"color:#33cc99\">Solution:</span> In this case, the categorical scatter plot from **Step 7** is the more appropriate plot. While both plots tell the desired story, the plot from **Step 6** conveys far more information that could distract from the main point."
      ],
      "text/plain": [
       "Solution: In this case, the categorical scatter plot from **Step 7** is the more appropriate plot. While both plots tell the desired story, the plot from **Step 6** conveys far more information that could distract from the main point."
      ]
     },
     "metadata": {},
     "output_type": "display_data"
    }
   ],
   "source": [
    "# Check your answer (Run this code cell to receive credit!)\n",
    "step_7.b.solution()"
   ]
  },
  {
   "cell_type": "markdown",
   "id": "bd2247c8",
   "metadata": {
    "papermill": {
     "duration": 0.014937,
     "end_time": "2022-06-28T16:37:21.351714",
     "exception": false,
     "start_time": "2022-06-28T16:37:21.336777",
     "status": "completed"
    },
    "tags": []
   },
   "source": [
    "## Keep going\n",
    "\n",
    "Explore **[histograms and density plots](https://www.kaggle.com/alexisbcook/distributions)**."
   ]
  },
  {
   "cell_type": "markdown",
   "id": "44b3b537",
   "metadata": {
    "papermill": {
     "duration": 0.014905,
     "end_time": "2022-06-28T16:37:21.381808",
     "exception": false,
     "start_time": "2022-06-28T16:37:21.366903",
     "status": "completed"
    },
    "tags": []
   },
   "source": [
    "---\n",
    "\n",
    "\n",
    "\n",
    "\n",
    "*Have questions or comments? Visit the [course discussion forum](https://www.kaggle.com/learn/data-visualization/discussion) to chat with other learners.*"
   ]
  }
 ],
 "metadata": {
  "kernelspec": {
   "display_name": "Python 3",
   "language": "python",
   "name": "python3"
  },
  "language_info": {
   "codemirror_mode": {
    "name": "ipython",
    "version": 3
   },
   "file_extension": ".py",
   "mimetype": "text/x-python",
   "name": "python",
   "nbconvert_exporter": "python",
   "pygments_lexer": "ipython3",
   "version": "3.7.12"
  },
  "papermill": {
   "default_parameters": {},
   "duration": 15.352526,
   "end_time": "2022-06-28T16:37:22.117729",
   "environment_variables": {},
   "exception": null,
   "input_path": "__notebook__.ipynb",
   "output_path": "__notebook__.ipynb",
   "parameters": {},
   "start_time": "2022-06-28T16:37:06.765203",
   "version": "2.3.4"
  }
 },
 "nbformat": 4,
 "nbformat_minor": 5
}
